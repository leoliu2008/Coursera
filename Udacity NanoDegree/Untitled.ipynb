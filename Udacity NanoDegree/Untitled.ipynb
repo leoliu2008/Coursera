{
 "cells": [
  {
   "cell_type": "code",
   "execution_count": 1,
   "metadata": {},
   "outputs": [
    {
     "name": "stdout",
     "output_type": "stream",
     "text": [
      "Input unsorted array :  [2 0 1 5 4 1 9]\n",
      "Output sorted array indices :  [1 2 5 0 4 3 6]\n",
      "Output sorted array :  [0 1 1 2 4 5 9]\n"
     ]
    }
   ],
   "source": [
    "import numpy as np \n",
    "\n",
    "in_arr = np.array([ 2, 0,  1, 5, 4, 1, 9]) \n",
    "print (\"Input unsorted array : \", in_arr)  \n",
    "  \n",
    "out_arr = np.argsort(in_arr) \n",
    "print (\"Output sorted array indices : \", out_arr) \n",
    "print(\"Output sorted array : \", in_arr[out_arr]) "
   ]
  },
  {
   "cell_type": "code",
   "execution_count": 2,
   "metadata": {},
   "outputs": [
    {
     "name": "stdout",
     "output_type": "stream",
     "text": [
      "5 5 3\n",
      "10 10 6\n",
      "20 10 10\n"
     ]
    }
   ],
   "source": [
    "for x, y, z in zip([5,10,20],[5,10,10],[3,6,10]):\n",
    "    print(x,y,z)"
   ]
  }
 ],
 "metadata": {
  "kernelspec": {
   "display_name": "Python 3",
   "language": "python",
   "name": "python3"
  },
  "language_info": {
   "codemirror_mode": {
    "name": "ipython",
    "version": 3
   },
   "file_extension": ".py",
   "mimetype": "text/x-python",
   "name": "python",
   "nbconvert_exporter": "python",
   "pygments_lexer": "ipython3",
   "version": "3.6.7"
  }
 },
 "nbformat": 4,
 "nbformat_minor": 2
}
