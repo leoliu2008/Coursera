{
 "cells": [
  {
   "cell_type": "code",
   "execution_count": 50,
   "metadata": {},
   "outputs": [],
   "source": [
    "def problem3_1(textfilename):\n",
    "    \"\"\"read a text file and counts the number of letters in it\"\"\"\n",
    "    filename=open(textfilename)\n",
    "    sum = 0\n",
    "    for i in filename:\n",
    "        sum = sum + len(i)\n",
    "        print(i, end = \"\")\n",
    "    print(\"n\\nThere are\", sum, \"letters in the file.\")\n",
    "    filename.close()"
   ]
  },
  {
   "cell_type": "code",
   "execution_count": 52,
   "metadata": {},
   "outputs": [],
   "source": [
    "# problem3_1(\"test.txt\")"
   ]
  }
 ],
 "metadata": {
  "kernelspec": {
   "display_name": "Python [default]",
   "language": "python",
   "name": "python3"
  },
  "language_info": {
   "codemirror_mode": {
    "name": "ipython",
    "version": 3
   },
   "file_extension": ".py",
   "mimetype": "text/x-python",
   "name": "python",
   "nbconvert_exporter": "python",
   "pygments_lexer": "ipython3",
   "version": "3.5.5"
  }
 },
 "nbformat": 4,
 "nbformat_minor": 2
}
