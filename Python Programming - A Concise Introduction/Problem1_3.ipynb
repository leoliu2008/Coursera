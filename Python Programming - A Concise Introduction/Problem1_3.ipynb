{
 "cells": [
  {
   "cell_type": "code",
   "execution_count": 25,
   "metadata": {},
   "outputs": [],
   "source": [
    "def problem1_3(n):\n",
    "    my_sum = 0\n",
    "    total_sum = 0 \n",
    "    \n",
    "    while my_sum < n:\n",
    "        my_sum = my_sum + 1 \n",
    "        total_sum = total_sum + my_sum\n",
    "\n",
    "        print(total_sum)\n"
   ]
  }
 ],
 "metadata": {
  "kernelspec": {
   "display_name": "Python [default]",
   "language": "python",
   "name": "python3"
  },
  "language_info": {
   "codemirror_mode": {
    "name": "ipython",
    "version": 3
   },
   "file_extension": ".py",
   "mimetype": "text/x-python",
   "name": "python",
   "nbconvert_exporter": "python",
   "pygments_lexer": "ipython3",
   "version": "3.5.5"
  }
 },
 "nbformat": 4,
 "nbformat_minor": 2
}
