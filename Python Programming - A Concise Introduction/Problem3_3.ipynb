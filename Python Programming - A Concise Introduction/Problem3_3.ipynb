{
 "cells": [
  {
   "cell_type": "code",
   "execution_count": 16,
   "metadata": {},
   "outputs": [],
   "source": [
    "def problem3_3(month, day, year):\n",
    "    \"\"\"convert date from one one formate to another\"\"\"\n",
    "    months = (\"January\", \"February\", \"March\", \"April\", \"May\", \"June\", \"July\", \\\n",
    "              \"August\", \"September\", \"October\", \"November\", \"December\")\n",
    "    monthStr = int(month) - 1\n",
    "    print(months[monthStr], str(day)+\",\", year)"
   ]
  },
  {
   "cell_type": "code",
   "execution_count": 17,
   "metadata": {},
   "outputs": [
    {
     "name": "stdout",
     "output_type": "stream",
     "text": [
      "June 17, 2016\n"
     ]
    }
   ],
   "source": [
    "# problem3_3(6,17,2016)"
   ]
  }
 ],
 "metadata": {
  "kernelspec": {
   "display_name": "Python [default]",
   "language": "python",
   "name": "python3"
  },
  "language_info": {
   "codemirror_mode": {
    "name": "ipython",
    "version": 3
   },
   "file_extension": ".py",
   "mimetype": "text/x-python",
   "name": "python",
   "nbconvert_exporter": "python",
   "pygments_lexer": "ipython3",
   "version": "3.5.5"
  }
 },
 "nbformat": 4,
 "nbformat_minor": 2
}
