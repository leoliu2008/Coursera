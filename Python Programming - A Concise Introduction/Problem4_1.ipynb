{
 "cells": [
  {
   "cell_type": "code",
   "execution_count": 6,
   "metadata": {},
   "outputs": [],
   "source": [
    "def problem4_1(line):\n",
    "    \"\"\"print the list and sort it regardless of lower or upper case\"\"\"\n",
    "    print(line)\n",
    "    print(sorted(line, key = str.lower))"
   ]
  },
  {
   "cell_type": "code",
   "execution_count": 7,
   "metadata": {},
   "outputs": [
    {
     "name": "stdout",
     "output_type": "stream",
     "text": [
      "['Happy', 'families', 'are', 'all', 'alike;', 'every', 'unhappy', 'family', 'is', 'unhappy', 'in', 'its', 'own', 'way.', 'Leo Tolstoy', 'Anna Karenina']\n",
      "['alike;', 'all', 'Anna Karenina', 'are', 'every', 'families', 'family', 'Happy', 'in', 'is', 'its', 'Leo Tolstoy', 'own', 'unhappy', 'unhappy', 'way.']\n"
     ]
    }
   ],
   "source": [
    "#firstline = [\"Happy\", \"families\", \"are\", \"all\", \"alike;\", \"every\", \\\n",
    "#              \"unhappy\", \"family\", \"is\", \"unhappy\", \"in\", \"its\", \"own\", \\\n",
    "#              \"way.\", \"Leo Tolstoy\", \"Anna Karenina\"]  \n",
    "#problem4_1(firstline)"
   ]
  }
 ],
 "metadata": {
  "kernelspec": {
   "display_name": "Python [default]",
   "language": "python",
   "name": "python3"
  },
  "language_info": {
   "codemirror_mode": {
    "name": "ipython",
    "version": 3
   },
   "file_extension": ".py",
   "mimetype": "text/x-python",
   "name": "python",
   "nbconvert_exporter": "python",
   "pygments_lexer": "ipython3",
   "version": "3.5.5"
  }
 },
 "nbformat": 4,
 "nbformat_minor": 2
}
