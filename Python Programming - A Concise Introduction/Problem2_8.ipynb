{
 "cells": [
  {
   "cell_type": "code",
   "execution_count": 14,
   "metadata": {},
   "outputs": [],
   "source": [
    "def problem2_8(temp_list):\n",
    "    sum = 0\n",
    "    for temp in temp_list:\n",
    "        sum += temp\n",
    "        #sum = sum temp\n",
    "\n",
    "    avg = sum / len(temp_list)\n",
    "    max_temp  = max(temp_list)\n",
    "    min_temp  = min(temp_list)\n",
    "    \n",
    "    print(\"Average\", avg)\n",
    "    print(\"High\", max_temp)\n",
    "    print(\"Low\", min_temp)"
   ]
  }
 ],
 "metadata": {
  "kernelspec": {
   "display_name": "Python [default]",
   "language": "python",
   "name": "python3"
  },
  "language_info": {
   "codemirror_mode": {
    "name": "ipython",
    "version": 3
   },
   "file_extension": ".py",
   "mimetype": "text/x-python",
   "name": "python",
   "nbconvert_exporter": "python",
   "pygments_lexer": "ipython3",
   "version": "3.5.5"
  }
 },
 "nbformat": 4,
 "nbformat_minor": 2
}
