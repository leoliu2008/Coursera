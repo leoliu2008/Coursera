{
 "cells": [
  {
   "cell_type": "code",
   "execution_count": 52,
   "metadata": {},
   "outputs": [],
   "source": [
    "def problem4_3(productname, cost):\n",
    "    \"\"\"print out the product and cost nicely, allowing  25 characaters for product name (left-justified)/\n",
    "    and 6 characters for cost(right justified), with dollar sign and 2 decimal places\"\"\"\n",
    "    print(\"{0:<25}${1:>6.2f}\".format(productname, cost))"
   ]
  },
  {
   "cell_type": "code",
   "execution_count": 53,
   "metadata": {},
   "outputs": [
    {
     "name": "stdout",
     "output_type": "stream",
     "text": [
      "pen                      $  3.25\n"
     ]
    }
   ],
   "source": [
    "#problem4_3(\"pen\", 3.25)"
   ]
  }
 ],
 "metadata": {
  "kernelspec": {
   "display_name": "Python [default]",
   "language": "python",
   "name": "python3"
  },
  "language_info": {
   "codemirror_mode": {
    "name": "ipython",
    "version": 3
   },
   "file_extension": ".py",
   "mimetype": "text/x-python",
   "name": "python",
   "nbconvert_exporter": "python",
   "pygments_lexer": "ipython3",
   "version": "3.5.5"
  }
 },
 "nbformat": 4,
 "nbformat_minor": 2
}
