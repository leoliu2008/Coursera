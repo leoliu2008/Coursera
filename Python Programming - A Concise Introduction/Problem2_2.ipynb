{
 "cells": [
  {
   "cell_type": "code",
   "execution_count": 22,
   "metadata": {},
   "outputs": [],
   "source": [
    "#alist = [\"a\",\"e\",\"i\",\"o\",\"u\",\"y\"]\n",
    "#blist = [\"alpha\", \"beta\", \"gamma\", \"delta\", \"epsilon\", \"eta\", \"theta\"] \n",
    "\n",
    "def problem2_2(my_list):\n",
    "    print(my_list)\n",
    "    print(my_list[0])\n",
    "    print(my_list[len(my_list)-1])\n",
    "    print(my_list[3:5])\n",
    "    print(my_list[0:3])\n",
    "    print(my_list[3:])\n",
    "    print(len(my_list))\n",
    "    my_list.append(\"z\")\n",
    "    print(my_list)"
   ]
  }
 ],
 "metadata": {
  "kernelspec": {
   "display_name": "Python [default]",
   "language": "python",
   "name": "python3"
  },
  "language_info": {
   "codemirror_mode": {
    "name": "ipython",
    "version": 3
   },
   "file_extension": ".py",
   "mimetype": "text/x-python",
   "name": "python",
   "nbconvert_exporter": "python",
   "pygments_lexer": "ipython3",
   "version": "3.5.5"
  }
 },
 "nbformat": 4,
 "nbformat_minor": 2
}
