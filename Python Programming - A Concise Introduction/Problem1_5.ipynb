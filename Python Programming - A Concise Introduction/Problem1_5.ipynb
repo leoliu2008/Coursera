{
 "cells": [
  {
   "cell_type": "code",
   "execution_count": 9,
   "metadata": {},
   "outputs": [],
   "source": [
    "def problem1_5(age):\n",
    "    if age < 7:\n",
    "        print(\"Have a glass of milk\")\n",
    "    elif age < 21:\n",
    "        print(\"have a coke\")\n",
    "    else:\n",
    "        print(\"Have a Martini\")"
   ]
  }
 ],
 "metadata": {
  "kernelspec": {
   "display_name": "Python [default]",
   "language": "python",
   "name": "python3"
  },
  "language_info": {
   "codemirror_mode": {
    "name": "ipython",
    "version": 3
   },
   "file_extension": ".py",
   "mimetype": "text/x-python",
   "name": "python",
   "nbconvert_exporter": "python",
   "pygments_lexer": "ipython3",
   "version": "3.5.5"
  }
 },
 "nbformat": 4,
 "nbformat_minor": 2
}
