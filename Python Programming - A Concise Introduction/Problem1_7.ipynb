{
 "cells": [
  {
   "cell_type": "code",
   "execution_count": 9,
   "metadata": {},
   "outputs": [],
   "source": [
    "def problem1_7():\n",
    "    b1 = input(\"Enter the length of one of the bases: \")\n",
    "    b2 = input(\"Enter the length of the other base: \")\n",
    "    h = input(\"Enter the height: \")\n",
    "    \n",
    "    A = 1/2 * ( float(b1)+float(b2) ) * float(h)\n",
    "    print(\"The area of a trapezoid with baese \", float(b1), \" and \", float(b2),\" and height \",float(h), \" is\", A)"
   ]
  },
  {
   "cell_type": "code",
   "execution_count": 10,
   "metadata": {},
   "outputs": [
    {
     "name": "stdout",
     "output_type": "stream",
     "text": [
      "Enter the length of one of the bases: 3\n",
      "Enter the length of the other base: 4\n",
      "Enter the height: 8\n",
      "The area of a trapezoid with baese  3.0  and  4.0  and height  8.0  is 28.0\n"
     ]
    }
   ],
   "source": [
    "problem1_7()"
   ]
  }
 ],
 "metadata": {
  "kernelspec": {
   "display_name": "Python [default]",
   "language": "python",
   "name": "python3"
  },
  "language_info": {
   "codemirror_mode": {
    "name": "ipython",
    "version": 3
   },
   "file_extension": ".py",
   "mimetype": "text/x-python",
   "name": "python",
   "nbconvert_exporter": "python",
   "pygments_lexer": "ipython3",
   "version": "3.5.5"
  }
 },
 "nbformat": 4,
 "nbformat_minor": 2
}
