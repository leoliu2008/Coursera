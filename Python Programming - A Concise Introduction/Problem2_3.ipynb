{
 "cells": [
  {
   "cell_type": "code",
   "execution_count": 3,
   "metadata": {},
   "outputs": [],
   "source": [
    "#newEngland = [\"Maine\",\"New Hampshire\",\"Vermont\", \"Rhode Island\", \"Massachusetts\",\"Connecticut\"]\n",
    "\n",
    "def problem2_3(ls):\n",
    "    for item in ls:\n",
    "        print(item, \"has \", len(item), \"letters.\")\n",
    "    "
   ]
  },
  {
   "cell_type": "code",
   "execution_count": null,
   "metadata": {},
   "outputs": [],
   "source": [
    "#  newEngland = [\"Maine\",\"New Hampshire\",\"Vermont\", \"Rhode Island\", \"Massachusetts\",\"Connecticut\"]\n",
    "# problem2_3(newEngland)\n"
   ]
  }
 ],
 "metadata": {
  "kernelspec": {
   "display_name": "Python [default]",
   "language": "python",
   "name": "python3"
  },
  "language_info": {
   "codemirror_mode": {
    "name": "ipython",
    "version": 3
   },
   "file_extension": ".py",
   "mimetype": "text/x-python",
   "name": "python",
   "nbconvert_exporter": "python",
   "pygments_lexer": "ipython3",
   "version": "3.5.5"
  }
 },
 "nbformat": 4,
 "nbformat_minor": 2
}
