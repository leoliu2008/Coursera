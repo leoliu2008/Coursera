{
 "cells": [
  {
   "cell_type": "code",
   "execution_count": 7,
   "metadata": {},
   "outputs": [],
   "source": [
    "import csv\n",
    "def problem3_7(csv_file, flower):\n",
    "    infile = open(csv_file)\n",
    "    reader=csv.reader(infile)\n",
    "    for row in reader:\n",
    "        if row[0] == flower:\n",
    "            print(row[1])\n",
    "            "
   ]
  },
  {
   "cell_type": "code",
   "execution_count": null,
   "metadata": {},
   "outputs": [],
   "source": [
    "#infile = open(\"loans.csv\")\n",
    "#reader=csv.reader(infile)\n",
    "#for row in reader:\n",
    "#    if row[4] == \"827399193\":\n",
    "#        print(row[3])"
   ]
  }
 ],
 "metadata": {
  "kernelspec": {
   "display_name": "Python [default]",
   "language": "python",
   "name": "python3"
  },
  "language_info": {
   "codemirror_mode": {
    "name": "ipython",
    "version": 3
   },
   "file_extension": ".py",
   "mimetype": "text/x-python",
   "name": "python",
   "nbconvert_exporter": "python",
   "pygments_lexer": "ipython3",
   "version": "3.5.5"
  }
 },
 "nbformat": 4,
 "nbformat_minor": 2
}
