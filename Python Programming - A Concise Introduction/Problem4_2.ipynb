{
 "cells": [
  {
   "cell_type": "code",
   "execution_count": 6,
   "metadata": {},
   "outputs": [
    {
     "name": "stdout",
     "output_type": "stream",
     "text": [
      "[3.9, 69.6, 14.4, 46.3, 67.2, 79.3, 45.3, 49.8, 1.9, 43.2, 37.2, 85.2, 54.7, 75.5, 43.4, 17.6, 85.1, 82.0, 37.6, 9.6, 51.2, 49.6, 77.2, 59.7, 50.7, 57.5, 37.7, 4.9, 6.1, 94.2, 83.9, 29.6, 88.9, 52.2, 10.3, 85.6, 58.4, 93.3, 67.9, 9.4, 62.3, 78.7, 89.9, 33.1, 52.9, 70.1, 16.7, 84.8, 78.1, 5.0, 59.1, 36.8, 18.6, 60.4, 96.9, 55.2, 11.3, 49.5, 77.9, 95.5, 71.5, 4.1, 96.7, 60.2, 8.4, 12.7, 8.6, 66.5, 15.4, 80.7, 10.9, 53.5, 44.3, 3.8, 0.3, 90.4, 97.7, 12.4, 73.5, 98.9, 90.4, 88.5, 33.8, 71.7, 49.8, 93.7, 70.3, 84.4, 85.7, 38.6, 71.2, 9.3, 20.6, 93.7, 40.5, 68.5, 57.6, 26.0, 58.6, 91.2]\n"
     ]
    }
   ],
   "source": [
    "import random\n",
    "numlist=[]\n",
    "random.seed(43)\n",
    "for i in range(0,100):\n",
    "    numlist.append(round(100*random.random(),1))\n",
    "print(numlist)"
   ]
  },
  {
   "cell_type": "code",
   "execution_count": 12,
   "metadata": {},
   "outputs": [],
   "source": [
    "import statistics\n",
    "def problem4_2(numlist):\n",
    "    \"\"\"compute the mean and stadard deviation of a list of floats\"\"\"\n",
    "    print(statistics.mean(numlist))\n",
    "    print(statistics.stdev(numlist))"
   ]
  },
  {
   "cell_type": "code",
   "execution_count": 13,
   "metadata": {},
   "outputs": [
    {
     "name": "stdout",
     "output_type": "stream",
     "text": [
      "53.045\n",
      "30.10972316865317\n"
     ]
    }
   ],
   "source": [
    "#problem4_2(numlist)"
   ]
  }
 ],
 "metadata": {
  "kernelspec": {
   "display_name": "Python [default]",
   "language": "python",
   "name": "python3"
  },
  "language_info": {
   "codemirror_mode": {
    "name": "ipython",
    "version": 3
   },
   "file_extension": ".py",
   "mimetype": "text/x-python",
   "name": "python",
   "nbconvert_exporter": "python",
   "pygments_lexer": "ipython3",
   "version": "3.5.5"
  }
 },
 "nbformat": 4,
 "nbformat_minor": 2
}
