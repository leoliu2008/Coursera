{
 "cells": [
  {
   "cell_type": "code",
   "execution_count": 6,
   "metadata": {},
   "outputs": [],
   "source": [
    "def problem3_5(name):\n",
    "    phone_numbers = {\"abbie\":\"(860) 123-4535\", \"beverly\":\"(901) 454-3241\", \\\n",
    "                      \"james\": \"(212) 567-8149\", \"thomas\": \"(795) 342-9145\"}\n",
    "    print(phone_numbers[name])"
   ]
  },
  {
   "cell_type": "code",
   "execution_count": 7,
   "metadata": {},
   "outputs": [
    {
     "name": "stdout",
     "output_type": "stream",
     "text": [
      "(212) 567-8149\n"
     ]
    }
   ],
   "source": [
    "#problem3_5(\"james\")"
   ]
  }
 ],
 "metadata": {
  "kernelspec": {
   "display_name": "Python [default]",
   "language": "python",
   "name": "python3"
  },
  "language_info": {
   "codemirror_mode": {
    "name": "ipython",
    "version": 3
   },
   "file_extension": ".py",
   "mimetype": "text/x-python",
   "name": "python",
   "nbconvert_exporter": "python",
   "pygments_lexer": "ipython3",
   "version": "3.5.5"
  }
 },
 "nbformat": 4,
 "nbformat_minor": 2
}
