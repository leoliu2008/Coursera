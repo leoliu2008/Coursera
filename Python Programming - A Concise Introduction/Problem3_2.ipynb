{
 "cells": [
  {
   "cell_type": "code",
   "execution_count": 2,
   "metadata": {},
   "outputs": [],
   "source": [
    "nlis = [23,64,23,46,12,24]          # list\n",
    "atup = (\"c\",\"e\",\"a\",\"d\",\"b\")        # tuple\n",
    "str1 = \"Rumplestilskin\"             # string"
   ]
  },
  {
   "cell_type": "code",
   "execution_count": 16,
   "metadata": {},
   "outputs": [],
   "source": [
    "def problem3_2(collection):\n",
    "    for n in range(0,len(collection)):\n",
    "        print(collection[n])      "
   ]
  }
 ],
 "metadata": {
  "kernelspec": {
   "display_name": "Python [default]",
   "language": "python",
   "name": "python3"
  },
  "language_info": {
   "codemirror_mode": {
    "name": "ipython",
    "version": 3
   },
   "file_extension": ".py",
   "mimetype": "text/x-python",
   "name": "python",
   "nbconvert_exporter": "python",
   "pygments_lexer": "ipython3",
   "version": "3.5.5"
  }
 },
 "nbformat": 4,
 "nbformat_minor": 2
}
