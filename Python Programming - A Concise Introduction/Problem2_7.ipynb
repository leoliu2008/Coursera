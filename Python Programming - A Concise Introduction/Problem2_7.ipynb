{
 "cells": [
  {
   "cell_type": "code",
   "execution_count": 9,
   "metadata": {},
   "outputs": [],
   "source": [
    "def problem2_7():\n",
    "    a = input(\"enter length of side one: \")\n",
    "    b = input(\"enter length of side two: \")\n",
    "    c = input(\"enter length of side three: \")\n",
    "    a = float(a)\n",
    "    b = float(b)\n",
    "    c = float(c)\n",
    "         \n",
    "    s = 0.5*(a + b + c)\n",
    "    x = s*(s-a)*(s-b)*(s-c)\n",
    "    print(\"Area of a tringle with sides \", a, b, c, \"is \", x**.5)"
   ]
  }
 ],
 "metadata": {
  "kernelspec": {
   "display_name": "Python [default]",
   "language": "python",
   "name": "python3"
  },
  "language_info": {
   "codemirror_mode": {
    "name": "ipython",
    "version": 3
   },
   "file_extension": ".py",
   "mimetype": "text/x-python",
   "name": "python",
   "nbconvert_exporter": "python",
   "pygments_lexer": "ipython3",
   "version": "3.5.5"
  }
 },
 "nbformat": 4,
 "nbformat_minor": 2
}
